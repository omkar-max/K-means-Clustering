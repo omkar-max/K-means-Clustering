{
 "cells": [
  {
   "cell_type": "code",
   "execution_count": 2,
   "id": "c64501af-ea3c-40a7-bc35-d45457747d03",
   "metadata": {},
   "outputs": [],
   "source": [
    "import numpy as np\n",
    "import matplotlib.pyplot as plt\n",
    "import pandas as pd\n",
    "import warnings\n",
    "warnings.simplefilter('ignore')"
   ]
  },
  {
   "cell_type": "code",
   "execution_count": 4,
   "id": "08d554fc-825c-4067-ae00-12152daa61e3",
   "metadata": {},
   "outputs": [],
   "source": [
    "bank_df = pd.read_csv(r\"C:\\Users\\omkar\\OneDrive\\Desktop\\Datasets\\bank_transaction1.csv\")"
   ]
  },
  {
   "cell_type": "code",
   "execution_count": 6,
   "id": "0dcfda62-ee4e-44f1-96f3-a4dc1a4d4819",
   "metadata": {},
   "outputs": [],
   "source": [
    "df = bank_df.copy()"
   ]
  },
  {
   "cell_type": "code",
   "execution_count": 7,
   "id": "6bc4a96d-c208-4b3a-828a-9afbecde72d3",
   "metadata": {},
   "outputs": [
    {
     "data": {
      "text/html": [
       "<div>\n",
       "<style scoped>\n",
       "    .dataframe tbody tr th:only-of-type {\n",
       "        vertical-align: middle;\n",
       "    }\n",
       "\n",
       "    .dataframe tbody tr th {\n",
       "        vertical-align: top;\n",
       "    }\n",
       "\n",
       "    .dataframe thead th {\n",
       "        text-align: right;\n",
       "    }\n",
       "</style>\n",
       "<table border=\"1\" class=\"dataframe\">\n",
       "  <thead>\n",
       "    <tr style=\"text-align: right;\">\n",
       "      <th></th>\n",
       "      <th>TransactionID</th>\n",
       "      <th>CustomerID</th>\n",
       "      <th>CustomerDOB</th>\n",
       "      <th>CustGender</th>\n",
       "      <th>CustLocation</th>\n",
       "      <th>CustAccountBalance</th>\n",
       "      <th>TransactionDate</th>\n",
       "      <th>TransactionTime</th>\n",
       "      <th>TransactionAmount (INR)</th>\n",
       "    </tr>\n",
       "  </thead>\n",
       "  <tbody>\n",
       "    <tr>\n",
       "      <th>0</th>\n",
       "      <td>T950255</td>\n",
       "      <td>C8211536</td>\n",
       "      <td>15/4/94</td>\n",
       "      <td>M</td>\n",
       "      <td>GURGAON</td>\n",
       "      <td>6054.68</td>\n",
       "      <td>10/9/16</td>\n",
       "      <td>204205</td>\n",
       "      <td>230.0</td>\n",
       "    </tr>\n",
       "    <tr>\n",
       "      <th>1</th>\n",
       "      <td>T348456</td>\n",
       "      <td>C1724521</td>\n",
       "      <td>11/7/88</td>\n",
       "      <td>F</td>\n",
       "      <td>EAST GODAVARI</td>\n",
       "      <td>650.38</td>\n",
       "      <td>15/8/16</td>\n",
       "      <td>130839</td>\n",
       "      <td>50.0</td>\n",
       "    </tr>\n",
       "    <tr>\n",
       "      <th>2</th>\n",
       "      <td>T179226</td>\n",
       "      <td>C7711118</td>\n",
       "      <td>28/2/88</td>\n",
       "      <td>M</td>\n",
       "      <td>OFFICE PURBA MEDINIPUR</td>\n",
       "      <td>9246.98</td>\n",
       "      <td>4/8/16</td>\n",
       "      <td>220538</td>\n",
       "      <td>100.0</td>\n",
       "    </tr>\n",
       "    <tr>\n",
       "      <th>3</th>\n",
       "      <td>T37509</td>\n",
       "      <td>C2240753</td>\n",
       "      <td>13/8/73</td>\n",
       "      <td>M</td>\n",
       "      <td>CHENNAI</td>\n",
       "      <td>57806.21</td>\n",
       "      <td>27/9/16</td>\n",
       "      <td>90913</td>\n",
       "      <td>563.0</td>\n",
       "    </tr>\n",
       "    <tr>\n",
       "      <th>4</th>\n",
       "      <td>T473137</td>\n",
       "      <td>C5248755</td>\n",
       "      <td>29/9/68</td>\n",
       "      <td>M</td>\n",
       "      <td>RAJKOT</td>\n",
       "      <td>1044669.31</td>\n",
       "      <td>21/8/16</td>\n",
       "      <td>183050</td>\n",
       "      <td>44.0</td>\n",
       "    </tr>\n",
       "  </tbody>\n",
       "</table>\n",
       "</div>"
      ],
      "text/plain": [
       "  TransactionID CustomerID CustomerDOB CustGender            CustLocation  \\\n",
       "0       T950255   C8211536     15/4/94          M                 GURGAON   \n",
       "1       T348456   C1724521     11/7/88          F           EAST GODAVARI   \n",
       "2       T179226   C7711118     28/2/88          M  OFFICE PURBA MEDINIPUR   \n",
       "3        T37509   C2240753     13/8/73          M                 CHENNAI   \n",
       "4       T473137   C5248755     29/9/68          M                  RAJKOT   \n",
       "\n",
       "   CustAccountBalance TransactionDate  TransactionTime  \\\n",
       "0             6054.68         10/9/16           204205   \n",
       "1              650.38         15/8/16           130839   \n",
       "2             9246.98          4/8/16           220538   \n",
       "3            57806.21         27/9/16            90913   \n",
       "4          1044669.31         21/8/16           183050   \n",
       "\n",
       "   TransactionAmount (INR)  \n",
       "0                    230.0  \n",
       "1                     50.0  \n",
       "2                    100.0  \n",
       "3                    563.0  \n",
       "4                     44.0  "
      ]
     },
     "execution_count": 7,
     "metadata": {},
     "output_type": "execute_result"
    }
   ],
   "source": [
    "df.head()"
   ]
  },
  {
   "cell_type": "code",
   "execution_count": 10,
   "id": "19237cb5-eae4-44e6-a6f4-2718392a4f8e",
   "metadata": {},
   "outputs": [
    {
     "data": {
      "text/plain": [
       "(1000, 9)"
      ]
     },
     "execution_count": 10,
     "metadata": {},
     "output_type": "execute_result"
    }
   ],
   "source": [
    "df.shape"
   ]
  },
  {
   "cell_type": "code",
   "execution_count": 11,
   "id": "7907e3f8-0feb-47d8-b051-abcd8a339bc0",
   "metadata": {},
   "outputs": [],
   "source": [
    "# It has 1000 rows and 9 columns"
   ]
  },
  {
   "cell_type": "code",
   "execution_count": 12,
   "id": "ff760607-bef9-49de-9cfb-1c75cf75496d",
   "metadata": {},
   "outputs": [
    {
     "data": {
      "text/plain": [
       "1000"
      ]
     },
     "execution_count": 12,
     "metadata": {},
     "output_type": "execute_result"
    }
   ],
   "source": [
    "df.CustomerID.nunique()"
   ]
  },
  {
   "cell_type": "code",
   "execution_count": 13,
   "id": "889c6fc2-1eca-4a63-9edd-d5f0dbd78627",
   "metadata": {},
   "outputs": [],
   "source": [
    "# we will drop TransactionID and CustomerID column because each row is unique so that there is no pattern."
   ]
  },
  {
   "cell_type": "code",
   "execution_count": 14,
   "id": "8f4ca842-8220-435f-8b7e-b3c0bfaacf41",
   "metadata": {},
   "outputs": [],
   "source": [
    "df.drop(columns=['TransactionID','CustomerID'],inplace=True)"
   ]
  },
  {
   "cell_type": "code",
   "execution_count": 15,
   "id": "8cd34871-eff7-4220-8b30-f5a9ca55cec3",
   "metadata": {},
   "outputs": [
    {
     "name": "stdout",
     "output_type": "stream",
     "text": [
      "<class 'pandas.core.frame.DataFrame'>\n",
      "RangeIndex: 1000 entries, 0 to 999\n",
      "Data columns (total 7 columns):\n",
      " #   Column                   Non-Null Count  Dtype  \n",
      "---  ------                   --------------  -----  \n",
      " 0   CustomerDOB              997 non-null    object \n",
      " 1   CustGender               999 non-null    object \n",
      " 2   CustLocation             1000 non-null   object \n",
      " 3   CustAccountBalance       998 non-null    float64\n",
      " 4   TransactionDate          1000 non-null   object \n",
      " 5   TransactionTime          1000 non-null   int64  \n",
      " 6   TransactionAmount (INR)  1000 non-null   float64\n",
      "dtypes: float64(2), int64(1), object(4)\n",
      "memory usage: 54.8+ KB\n"
     ]
    }
   ],
   "source": [
    "df.info()"
   ]
  },
  {
   "cell_type": "code",
   "execution_count": 17,
   "id": "802d3ae9-1ef0-4a7b-980f-d12eb767576c",
   "metadata": {},
   "outputs": [],
   "source": [
    "# Convert the columns into proper formats"
   ]
  },
  {
   "cell_type": "code",
   "execution_count": 18,
   "id": "9f5faf94-8899-4662-a680-818e07c8db46",
   "metadata": {},
   "outputs": [],
   "source": [
    "df.rename(columns= {'TransactionAmount (INR)':'TransactionAmount'},inplace=True)"
   ]
  },
  {
   "cell_type": "code",
   "execution_count": 20,
   "id": "791a3620-f2f8-4626-95a7-198d39e03ac7",
   "metadata": {},
   "outputs": [],
   "source": [
    "df['CustomerDOB']  = pd.to_datetime(df['CustomerDOB'],errors = 'raise')"
   ]
  },
  {
   "cell_type": "code",
   "execution_count": 32,
   "id": "9da8ef01-aca7-4380-9a0e-b73e1fb8a2e2",
   "metadata": {},
   "outputs": [],
   "source": [
    "# pd.set_option('display.max_rows',None)\n",
    "pd.reset_option('display.max_rows')\n"
   ]
  },
  {
   "cell_type": "code",
   "execution_count": 37,
   "id": "60edf8c3-6928-4f52-8db7-f0f60b768cda",
   "metadata": {},
   "outputs": [],
   "source": [
    "df['TransactionDate']  = pd.to_datetime(df['TransactionDate'],errors = 'raise')"
   ]
  },
  {
   "cell_type": "code",
   "execution_count": 42,
   "id": "5d641a92-b92d-46ee-9744-70689f4df2a5",
   "metadata": {},
   "outputs": [
    {
     "data": {
      "text/plain": [
       "1"
      ]
     },
     "execution_count": 42,
     "metadata": {},
     "output_type": "execute_result"
    }
   ],
   "source": [
    "df['TransactionDate'].dt.year.nunique() "
   ]
  },
  {
   "cell_type": "code",
   "execution_count": null,
   "id": "5f7f8b8a-f943-40ea-a82b-0d87204cb2fe",
   "metadata": {},
   "outputs": [],
   "source": [
    "#2016 is the only one year which is available as the trasaction date, So Considering 2016 year is the buiding or analysis for this dataset."
   ]
  },
  {
   "cell_type": "code",
   "execution_count": 43,
   "id": "e472d97b-e8fd-4a84-89a5-6e3989c76b1a",
   "metadata": {},
   "outputs": [
    {
     "data": {
      "text/html": [
       "<div>\n",
       "<style scoped>\n",
       "    .dataframe tbody tr th:only-of-type {\n",
       "        vertical-align: middle;\n",
       "    }\n",
       "\n",
       "    .dataframe tbody tr th {\n",
       "        vertical-align: top;\n",
       "    }\n",
       "\n",
       "    .dataframe thead th {\n",
       "        text-align: right;\n",
       "    }\n",
       "</style>\n",
       "<table border=\"1\" class=\"dataframe\">\n",
       "  <thead>\n",
       "    <tr style=\"text-align: right;\">\n",
       "      <th></th>\n",
       "      <th>CustomerDOB</th>\n",
       "      <th>CustGender</th>\n",
       "      <th>CustLocation</th>\n",
       "      <th>CustAccountBalance</th>\n",
       "      <th>TransactionDate</th>\n",
       "      <th>TransactionTime</th>\n",
       "      <th>TransactionAmount</th>\n",
       "    </tr>\n",
       "  </thead>\n",
       "  <tbody>\n",
       "    <tr>\n",
       "      <th>3</th>\n",
       "      <td>2073-08-13</td>\n",
       "      <td>M</td>\n",
       "      <td>CHENNAI</td>\n",
       "      <td>57806.21</td>\n",
       "      <td>2016-09-27</td>\n",
       "      <td>90913</td>\n",
       "      <td>563.00</td>\n",
       "    </tr>\n",
       "    <tr>\n",
       "      <th>4</th>\n",
       "      <td>2068-09-29</td>\n",
       "      <td>M</td>\n",
       "      <td>RAJKOT</td>\n",
       "      <td>1044669.31</td>\n",
       "      <td>2016-08-21</td>\n",
       "      <td>183050</td>\n",
       "      <td>44.00</td>\n",
       "    </tr>\n",
       "    <tr>\n",
       "      <th>14</th>\n",
       "      <td>2072-01-13</td>\n",
       "      <td>M</td>\n",
       "      <td>MOHALI</td>\n",
       "      <td>22944.74</td>\n",
       "      <td>2016-07-08</td>\n",
       "      <td>214807</td>\n",
       "      <td>159.00</td>\n",
       "    </tr>\n",
       "    <tr>\n",
       "      <th>48</th>\n",
       "      <td>2073-06-08</td>\n",
       "      <td>F</td>\n",
       "      <td>NEW DELHI</td>\n",
       "      <td>2666636.12</td>\n",
       "      <td>2016-08-17</td>\n",
       "      <td>114805</td>\n",
       "      <td>698.01</td>\n",
       "    </tr>\n",
       "    <tr>\n",
       "      <th>61</th>\n",
       "      <td>2070-12-14</td>\n",
       "      <td>M</td>\n",
       "      <td>KOLKATA</td>\n",
       "      <td>97419.89</td>\n",
       "      <td>2016-05-08</td>\n",
       "      <td>120359</td>\n",
       "      <td>7590.00</td>\n",
       "    </tr>\n",
       "    <tr>\n",
       "      <th>...</th>\n",
       "      <td>...</td>\n",
       "      <td>...</td>\n",
       "      <td>...</td>\n",
       "      <td>...</td>\n",
       "      <td>...</td>\n",
       "      <td>...</td>\n",
       "      <td>...</td>\n",
       "    </tr>\n",
       "    <tr>\n",
       "      <th>946</th>\n",
       "      <td>2073-05-10</td>\n",
       "      <td>M</td>\n",
       "      <td>DELHI</td>\n",
       "      <td>230615.89</td>\n",
       "      <td>2016-12-08</td>\n",
       "      <td>131638</td>\n",
       "      <td>235.13</td>\n",
       "    </tr>\n",
       "    <tr>\n",
       "      <th>960</th>\n",
       "      <td>2047-03-29</td>\n",
       "      <td>M</td>\n",
       "      <td>KASHIPUR</td>\n",
       "      <td>27748.51</td>\n",
       "      <td>2016-08-18</td>\n",
       "      <td>181758</td>\n",
       "      <td>1518.00</td>\n",
       "    </tr>\n",
       "    <tr>\n",
       "      <th>969</th>\n",
       "      <td>2062-09-04</td>\n",
       "      <td>M</td>\n",
       "      <td>CHENNAI</td>\n",
       "      <td>20130.13</td>\n",
       "      <td>2016-09-13</td>\n",
       "      <td>231732</td>\n",
       "      <td>1091.00</td>\n",
       "    </tr>\n",
       "    <tr>\n",
       "      <th>973</th>\n",
       "      <td>2066-08-10</td>\n",
       "      <td>M</td>\n",
       "      <td>GURGAON</td>\n",
       "      <td>723124.40</td>\n",
       "      <td>2016-01-08</td>\n",
       "      <td>105653</td>\n",
       "      <td>568.00</td>\n",
       "    </tr>\n",
       "    <tr>\n",
       "      <th>998</th>\n",
       "      <td>2068-01-13</td>\n",
       "      <td>F</td>\n",
       "      <td>GURGAON</td>\n",
       "      <td>38457.11</td>\n",
       "      <td>2016-08-24</td>\n",
       "      <td>193729</td>\n",
       "      <td>2594.78</td>\n",
       "    </tr>\n",
       "  </tbody>\n",
       "</table>\n",
       "<p>83 rows × 7 columns</p>\n",
       "</div>"
      ],
      "text/plain": [
       "    CustomerDOB CustGender CustLocation  CustAccountBalance TransactionDate  \\\n",
       "3    2073-08-13          M      CHENNAI            57806.21      2016-09-27   \n",
       "4    2068-09-29          M       RAJKOT          1044669.31      2016-08-21   \n",
       "14   2072-01-13          M       MOHALI            22944.74      2016-07-08   \n",
       "48   2073-06-08          F    NEW DELHI          2666636.12      2016-08-17   \n",
       "61   2070-12-14          M      KOLKATA            97419.89      2016-05-08   \n",
       "..          ...        ...          ...                 ...             ...   \n",
       "946  2073-05-10          M        DELHI           230615.89      2016-12-08   \n",
       "960  2047-03-29          M     KASHIPUR            27748.51      2016-08-18   \n",
       "969  2062-09-04          M      CHENNAI            20130.13      2016-09-13   \n",
       "973  2066-08-10          M      GURGAON           723124.40      2016-01-08   \n",
       "998  2068-01-13          F      GURGAON            38457.11      2016-08-24   \n",
       "\n",
       "     TransactionTime  TransactionAmount  \n",
       "3              90913             563.00  \n",
       "4             183050              44.00  \n",
       "14            214807             159.00  \n",
       "48            114805             698.01  \n",
       "61            120359            7590.00  \n",
       "..               ...                ...  \n",
       "946           131638             235.13  \n",
       "960           181758            1518.00  \n",
       "969           231732            1091.00  \n",
       "973           105653             568.00  \n",
       "998           193729            2594.78  \n",
       "\n",
       "[83 rows x 7 columns]"
      ]
     },
     "execution_count": 43,
     "metadata": {},
     "output_type": "execute_result"
    }
   ],
   "source": [
    "df[df['CustomerDOB'].dt.year > 2016]"
   ]
  },
  {
   "cell_type": "code",
   "execution_count": 36,
   "id": "621333bf-101a-4dec-93e4-da7cb9744286",
   "metadata": {},
   "outputs": [],
   "source": [
    "# 83 rows are considered as data entry errors as per customer DOB,Considering age as the important feature for the clustering in this case.\n",
    "# Since we don't have correct data for the data entry errors will drop these rows further.\n"
   ]
  },
  {
   "cell_type": "code",
   "execution_count": 47,
   "id": "29b82f8b-7372-482c-aa94-cbf264bcf260",
   "metadata": {},
   "outputs": [],
   "source": [
    "df['TransactionTime'] = pd.to_datetime(df['TransactionTime'].astype(str).str.zfill(6), format='%H%M%S').dt.time"
   ]
  },
  {
   "cell_type": "code",
   "execution_count": 49,
   "id": "dc484ed2-68de-412a-b026-d80c7fd11ea3",
   "metadata": {},
   "outputs": [],
   "source": [
    "# df.drop(columns=['Formatted_Time'],inplace=True)"
   ]
  },
  {
   "cell_type": "code",
   "execution_count": 50,
   "id": "6580b71a-5170-4f74-bcd3-31e7149d9873",
   "metadata": {},
   "outputs": [
    {
     "data": {
      "text/html": [
       "<div>\n",
       "<style scoped>\n",
       "    .dataframe tbody tr th:only-of-type {\n",
       "        vertical-align: middle;\n",
       "    }\n",
       "\n",
       "    .dataframe tbody tr th {\n",
       "        vertical-align: top;\n",
       "    }\n",
       "\n",
       "    .dataframe thead th {\n",
       "        text-align: right;\n",
       "    }\n",
       "</style>\n",
       "<table border=\"1\" class=\"dataframe\">\n",
       "  <thead>\n",
       "    <tr style=\"text-align: right;\">\n",
       "      <th></th>\n",
       "      <th>CustomerDOB</th>\n",
       "      <th>CustGender</th>\n",
       "      <th>CustLocation</th>\n",
       "      <th>CustAccountBalance</th>\n",
       "      <th>TransactionDate</th>\n",
       "      <th>TransactionTime</th>\n",
       "      <th>TransactionAmount</th>\n",
       "    </tr>\n",
       "  </thead>\n",
       "  <tbody>\n",
       "    <tr>\n",
       "      <th>0</th>\n",
       "      <td>1994-04-15</td>\n",
       "      <td>M</td>\n",
       "      <td>GURGAON</td>\n",
       "      <td>6054.68</td>\n",
       "      <td>2016-10-09</td>\n",
       "      <td>20:42:05</td>\n",
       "      <td>230.0</td>\n",
       "    </tr>\n",
       "    <tr>\n",
       "      <th>1</th>\n",
       "      <td>1988-11-07</td>\n",
       "      <td>F</td>\n",
       "      <td>EAST GODAVARI</td>\n",
       "      <td>650.38</td>\n",
       "      <td>2016-08-15</td>\n",
       "      <td>13:08:39</td>\n",
       "      <td>50.0</td>\n",
       "    </tr>\n",
       "    <tr>\n",
       "      <th>2</th>\n",
       "      <td>1988-02-28</td>\n",
       "      <td>M</td>\n",
       "      <td>OFFICE PURBA MEDINIPUR</td>\n",
       "      <td>9246.98</td>\n",
       "      <td>2016-04-08</td>\n",
       "      <td>22:05:38</td>\n",
       "      <td>100.0</td>\n",
       "    </tr>\n",
       "    <tr>\n",
       "      <th>3</th>\n",
       "      <td>2073-08-13</td>\n",
       "      <td>M</td>\n",
       "      <td>CHENNAI</td>\n",
       "      <td>57806.21</td>\n",
       "      <td>2016-09-27</td>\n",
       "      <td>09:09:13</td>\n",
       "      <td>563.0</td>\n",
       "    </tr>\n",
       "    <tr>\n",
       "      <th>4</th>\n",
       "      <td>2068-09-29</td>\n",
       "      <td>M</td>\n",
       "      <td>RAJKOT</td>\n",
       "      <td>1044669.31</td>\n",
       "      <td>2016-08-21</td>\n",
       "      <td>18:30:50</td>\n",
       "      <td>44.0</td>\n",
       "    </tr>\n",
       "  </tbody>\n",
       "</table>\n",
       "</div>"
      ],
      "text/plain": [
       "  CustomerDOB CustGender            CustLocation  CustAccountBalance  \\\n",
       "0  1994-04-15          M                 GURGAON             6054.68   \n",
       "1  1988-11-07          F           EAST GODAVARI              650.38   \n",
       "2  1988-02-28          M  OFFICE PURBA MEDINIPUR             9246.98   \n",
       "3  2073-08-13          M                 CHENNAI            57806.21   \n",
       "4  2068-09-29          M                  RAJKOT          1044669.31   \n",
       "\n",
       "  TransactionDate TransactionTime  TransactionAmount  \n",
       "0      2016-10-09        20:42:05              230.0  \n",
       "1      2016-08-15        13:08:39               50.0  \n",
       "2      2016-04-08        22:05:38              100.0  \n",
       "3      2016-09-27        09:09:13              563.0  \n",
       "4      2016-08-21        18:30:50               44.0  "
      ]
     },
     "execution_count": 50,
     "metadata": {},
     "output_type": "execute_result"
    }
   ],
   "source": [
    "df.head()"
   ]
  },
  {
   "cell_type": "code",
   "execution_count": 52,
   "id": "f21ce7a6-3e75-4220-b0ef-c1022136ec2e",
   "metadata": {},
   "outputs": [
    {
     "data": {
      "text/plain": [
       "CustomerDOB           False\n",
       "CustGender            False\n",
       "CustLocation          False\n",
       "CustAccountBalance    False\n",
       "TransactionDate       False\n",
       "TransactionTime       False\n",
       "TransactionAmount     False\n",
       "dtype: bool"
      ]
     },
     "execution_count": 52,
     "metadata": {},
     "output_type": "execute_result"
    }
   ],
   "source": [
    "df.any()==' '"
   ]
  },
  {
   "cell_type": "code",
   "execution_count": 53,
   "id": "5f64f687-9527-4e1b-9494-471002fd11ef",
   "metadata": {},
   "outputs": [],
   "source": [
    "# Entire dataset does't have empty strings"
   ]
  },
  {
   "cell_type": "code",
   "execution_count": 63,
   "id": "2e242bc7-1d5f-46ff-ac21-6ab60fcefbfd",
   "metadata": {},
   "outputs": [
    {
     "data": {
      "text/plain": [
       "CustomerDOB           3\n",
       "CustGender            1\n",
       "CustLocation          0\n",
       "CustAccountBalance    2\n",
       "TransactionDate       0\n",
       "TransactionTime       0\n",
       "TransactionAmount     0\n",
       "dtype: int64"
      ]
     },
     "execution_count": 63,
     "metadata": {},
     "output_type": "execute_result"
    }
   ],
   "source": [
    "df.isnull().sum() "
   ]
  },
  {
   "cell_type": "code",
   "execution_count": null,
   "id": "913bffdb-7bb8-4d17-8b69-0a0378a5cde5",
   "metadata": {},
   "outputs": [],
   "source": []
  }
 ],
 "metadata": {
  "kernelspec": {
   "display_name": "Python 3 (ipykernel)",
   "language": "python",
   "name": "python3"
  },
  "language_info": {
   "codemirror_mode": {
    "name": "ipython",
    "version": 3
   },
   "file_extension": ".py",
   "mimetype": "text/x-python",
   "name": "python",
   "nbconvert_exporter": "python",
   "pygments_lexer": "ipython3",
   "version": "3.11.7"
  }
 },
 "nbformat": 4,
 "nbformat_minor": 5
}
